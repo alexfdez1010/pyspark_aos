{
 "cells": [
  {
   "cell_type": "markdown",
   "id": "d0a76650-d31b-4f83-896b-ad1c56fdf185",
   "metadata": {},
   "source": [
    "# Introducción"
   ]
  },
  {
   "cell_type": "markdown",
   "id": "3304de6d-6192-4ab6-a3e3-2eb03ced008b",
   "metadata": {},
   "source": [
    "## Encontrando la instalación de PySpark e instalando las liberías necesarias"
   ]
  },
  {
   "cell_type": "code",
   "execution_count": 1,
   "id": "57aa9070-43a1-4a2c-b135-0e8132f2209b",
   "metadata": {},
   "outputs": [
    {
     "name": "stdout",
     "output_type": "stream",
     "text": [
      "Requirement already satisfied: findspark in /opt/conda/lib/python3.10/site-packages (2.0.1)\n",
      "Requirement already satisfied: pyspark in /usr/local/spark-3.3.1-bin-hadoop3/python (3.3.1)\n",
      "Requirement already satisfied: py4j==0.10.9.5 in /opt/conda/lib/python3.10/site-packages (from pyspark) (0.10.9.5)\n"
     ]
    }
   ],
   "source": [
    "!pip install findspark\n",
    "!pip install pyspark\n",
    "import findspark\n",
    "findspark.init()"
   ]
  },
  {
   "cell_type": "markdown",
   "id": "de8c6d16",
   "metadata": {},
   "source": [
    "## Cómo crear una sesión en Spark"
   ]
  },
  {
   "cell_type": "code",
   "execution_count": 2,
   "id": "4df459c1",
   "metadata": {},
   "outputs": [
    {
     "data": {
      "text/html": [
       "\n",
       "            <div>\n",
       "                <p><b>SparkSession - in-memory</b></p>\n",
       "                \n",
       "        <div>\n",
       "            <p><b>SparkContext</b></p>\n",
       "\n",
       "            <p><a href=\"http://ad6bd85e3df1:4050\">Spark UI</a></p>\n",
       "\n",
       "            <dl>\n",
       "              <dt>Version</dt>\n",
       "                <dd><code>v3.3.1</code></dd>\n",
       "              <dt>Master</dt>\n",
       "                <dd><code>local</code></dd>\n",
       "              <dt>AppName</dt>\n",
       "                <dd><code>PySpark</code></dd>\n",
       "            </dl>\n",
       "        </div>\n",
       "        \n",
       "            </div>\n",
       "        "
      ],
      "text/plain": [
       "<pyspark.sql.session.SparkSession at 0x7f52c09020e0>"
      ]
     },
     "execution_count": 2,
     "metadata": {},
     "output_type": "execute_result"
    }
   ],
   "source": [
    "from pyspark.sql import SparkSession\n",
    "\n",
    "spark = SparkSession.builder.master(\"local\").appName(\"PySpark\").config('spark.ui.port', '4050').getOrCreate()\n",
    "spark"
   ]
  },
  {
   "cell_type": "markdown",
   "id": "f7ef8b34-cfae-4013-8232-47550a437bb6",
   "metadata": {
    "tags": []
   },
   "source": [
    "# DataFrame"
   ]
  },
  {
   "cell_type": "markdown",
   "id": "e333f902",
   "metadata": {
    "tags": []
   },
   "source": [
    "## Leer un csv "
   ]
  },
  {
   "cell_type": "code",
   "execution_count": 3,
   "id": "ee309433",
   "metadata": {},
   "outputs": [
    {
     "name": "stdout",
     "output_type": "stream",
     "text": [
      "root\n",
      " |-- PassengerId: string (nullable = true)\n",
      " |-- Survived: string (nullable = true)\n",
      " |-- Pclass: string (nullable = true)\n",
      " |-- Name: string (nullable = true)\n",
      " |-- Sex: string (nullable = true)\n",
      " |-- Age: string (nullable = true)\n",
      " |-- SibSp: string (nullable = true)\n",
      " |-- Parch: string (nullable = true)\n",
      " |-- Ticket: string (nullable = true)\n",
      " |-- Fare: string (nullable = true)\n",
      " |-- Cabin: string (nullable = true)\n",
      " |-- Embarked: string (nullable = true)\n",
      "\n"
     ]
    }
   ],
   "source": [
    "df_titanic = spark.read.csv('titanic.csv',header=True)\n",
    "\n",
    "df_titanic.printSchema()"
   ]
  },
  {
   "cell_type": "markdown",
   "id": "701dc3e1",
   "metadata": {},
   "source": [
    "## Eliminando las columnas no necesarias"
   ]
  },
  {
   "cell_type": "code",
   "execution_count": 4,
   "id": "2d1784f9",
   "metadata": {},
   "outputs": [
    {
     "name": "stdout",
     "output_type": "stream",
     "text": [
      "root\n",
      " |-- Age: string (nullable = true)\n",
      " |-- SibSp: string (nullable = true)\n",
      " |-- Parch: string (nullable = true)\n",
      " |-- Fare: string (nullable = true)\n",
      " |-- Embarked: string (nullable = true)\n",
      " |-- Pclass: string (nullable = true)\n",
      " |-- Sex: string (nullable = true)\n",
      " |-- Survived: string (nullable = true)\n",
      "\n"
     ]
    }
   ],
   "source": [
    "NUMERIC_COLUMNS = [\"Age\",\"SibSp\",\"Parch\",\"Fare\"]\n",
    "ENUM_COLUMNS = [\"Embarked\",\"Pclass\",\"Sex\"]\n",
    "LABEL_COLUMN = [\"Survived\"]\n",
    "\n",
    "df_titanic = df_titanic.select(NUMERIC_COLUMNS + ENUM_COLUMNS + LABEL_COLUMN)\n",
    "df_titanic.printSchema()"
   ]
  },
  {
   "cell_type": "markdown",
   "id": "9595894f",
   "metadata": {},
   "source": [
    "## Transformando el DataFrame"
   ]
  },
  {
   "cell_type": "code",
   "execution_count": 5,
   "id": "25f51ce2",
   "metadata": {},
   "outputs": [
    {
     "name": "stdout",
     "output_type": "stream",
     "text": [
      "root\n",
      " |-- Age: float (nullable = true)\n",
      " |-- SibSp: float (nullable = true)\n",
      " |-- Parch: float (nullable = true)\n",
      " |-- Fare: float (nullable = true)\n",
      " |-- Embarked: string (nullable = true)\n",
      " |-- Pclass: string (nullable = true)\n",
      " |-- Sex: string (nullable = true)\n",
      " |-- Survived: string (nullable = true)\n",
      "\n"
     ]
    }
   ],
   "source": [
    "from pyspark.sql.functions import col\n",
    "def cast_to_float(input_df):\n",
    "    return input_df.select([col(col_name).cast(\"float\") if col_name in NUMERIC_COLUMNS \n",
    "                            else col(col_name)\n",
    "                            for col_name in input_df.columns])\n",
    "\n",
    "df_titanic = df_titanic.transform(cast_to_float)\n",
    "df_titanic.printSchema()"
   ]
  },
  {
   "cell_type": "markdown",
   "id": "6c848728",
   "metadata": {},
   "source": [
    "## Filtrando por las columnas"
   ]
  },
  {
   "cell_type": "markdown",
   "id": "91f26daa-f6ec-4f6d-9a80-73c18c5b96d7",
   "metadata": {},
   "source": [
    "### Usando where"
   ]
  },
  {
   "cell_type": "code",
   "execution_count": 6,
   "id": "18a513e5-6f2f-4d50-b19f-0f89f529b862",
   "metadata": {},
   "outputs": [
    {
     "name": "stdout",
     "output_type": "stream",
     "text": [
      "+----+-----+-----+--------+--------+------+------+--------+\n",
      "| Age|SibSp|Parch|    Fare|Embarked|Pclass|   Sex|Survived|\n",
      "+----+-----+-----+--------+--------+------+------+--------+\n",
      "|38.0|  1.0|  0.0| 71.2833|       C|     1|female|       1|\n",
      "|26.0|  0.0|  0.0|   7.925|       S|     3|female|       1|\n",
      "|35.0|  1.0|  0.0|    53.1|       S|     1|female|       1|\n",
      "|27.0|  0.0|  2.0| 11.1333|       S|     3|female|       1|\n",
      "|14.0|  1.0|  0.0| 30.0708|       C|     2|female|       1|\n",
      "| 4.0|  1.0|  1.0|    16.7|       S|     3|female|       1|\n",
      "|58.0|  0.0|  0.0|   26.55|       S|     1|female|       1|\n",
      "|55.0|  0.0|  0.0|    16.0|       S|     2|female|       1|\n",
      "|null|  0.0|  0.0|    13.0|       S|     2|  male|       1|\n",
      "|null|  0.0|  0.0|   7.225|       C|     3|female|       1|\n",
      "|34.0|  0.0|  0.0|    13.0|       S|     2|  male|       1|\n",
      "|15.0|  0.0|  0.0|  8.0292|       Q|     3|female|       1|\n",
      "|28.0|  0.0|  0.0|    35.5|       S|     1|  male|       1|\n",
      "|38.0|  1.0|  5.0| 31.3875|       S|     3|female|       1|\n",
      "|null|  0.0|  0.0|  7.8792|       Q|     3|female|       1|\n",
      "|null|  1.0|  0.0|146.5208|       C|     1|female|       1|\n",
      "|null|  0.0|  0.0|    7.75|       Q|     3|female|       1|\n",
      "|null|  0.0|  0.0|  7.2292|       C|     3|  male|       1|\n",
      "|14.0|  1.0|  0.0| 11.2417|       C|     3|female|       1|\n",
      "| 3.0|  1.0|  2.0| 41.5792|       C|     2|female|       1|\n",
      "+----+-----+-----+--------+--------+------+------+--------+\n",
      "only showing top 20 rows\n",
      "\n"
     ]
    }
   ],
   "source": [
    "df_survived = df_titanic.where(col(\"Survived\") == \"1\")\n",
    "df_survived.show() "
   ]
  },
  {
   "cell_type": "markdown",
   "id": "26865f10-6c3c-4140-a568-40422409e810",
   "metadata": {},
   "source": [
    "### Usando SQL"
   ]
  },
  {
   "cell_type": "code",
   "execution_count": 7,
   "id": "9d52d730",
   "metadata": {},
   "outputs": [
    {
     "name": "stdout",
     "output_type": "stream",
     "text": [
      "+----+-----+-----+--------+--------+------+------+--------+\n",
      "| Age|SibSp|Parch|    Fare|Embarked|Pclass|   Sex|Survived|\n",
      "+----+-----+-----+--------+--------+------+------+--------+\n",
      "|38.0|  1.0|  0.0| 71.2833|       C|     1|female|       1|\n",
      "|26.0|  0.0|  0.0|   7.925|       S|     3|female|       1|\n",
      "|35.0|  1.0|  0.0|    53.1|       S|     1|female|       1|\n",
      "|27.0|  0.0|  2.0| 11.1333|       S|     3|female|       1|\n",
      "|14.0|  1.0|  0.0| 30.0708|       C|     2|female|       1|\n",
      "| 4.0|  1.0|  1.0|    16.7|       S|     3|female|       1|\n",
      "|58.0|  0.0|  0.0|   26.55|       S|     1|female|       1|\n",
      "|55.0|  0.0|  0.0|    16.0|       S|     2|female|       1|\n",
      "|null|  0.0|  0.0|    13.0|       S|     2|  male|       1|\n",
      "|null|  0.0|  0.0|   7.225|       C|     3|female|       1|\n",
      "|34.0|  0.0|  0.0|    13.0|       S|     2|  male|       1|\n",
      "|15.0|  0.0|  0.0|  8.0292|       Q|     3|female|       1|\n",
      "|28.0|  0.0|  0.0|    35.5|       S|     1|  male|       1|\n",
      "|38.0|  1.0|  5.0| 31.3875|       S|     3|female|       1|\n",
      "|null|  0.0|  0.0|  7.8792|       Q|     3|female|       1|\n",
      "|null|  1.0|  0.0|146.5208|       C|     1|female|       1|\n",
      "|null|  0.0|  0.0|    7.75|       Q|     3|female|       1|\n",
      "|null|  0.0|  0.0|  7.2292|       C|     3|  male|       1|\n",
      "|14.0|  1.0|  0.0| 11.2417|       C|     3|female|       1|\n",
      "| 3.0|  1.0|  2.0| 41.5792|       C|     2|female|       1|\n",
      "+----+-----+-----+--------+--------+------+------+--------+\n",
      "only showing top 20 rows\n",
      "\n"
     ]
    }
   ],
   "source": [
    "df_titanic.createOrReplaceTempView(\"df_titanic\")\n",
    "df_sql_survived = spark.sql(\"SELECT * FROM df_titanic WHERE survived='1'\")\n",
    "df_sql_survived.show()"
   ]
  },
  {
   "cell_type": "code",
   "execution_count": 8,
   "id": "661e7a13-1eeb-4426-a21e-a9a1d7f06bde",
   "metadata": {},
   "outputs": [
    {
     "data": {
      "text/plain": [
       "\"\\nEjercicio\\nObten todas las tuplas que han pagado menos de 10$ por embarcar en el barco. La columna en cuestión es 'Fare'\\nPuedes user where, una consulta SQL o ambas\\n\""
      ]
     },
     "execution_count": 8,
     "metadata": {},
     "output_type": "execute_result"
    }
   ],
   "source": [
    "\"\"\"\n",
    "Ejercicio\n",
    "Obten todas las tuplas que han pagado menos de 10$ por embarcar en el barco. La columna en cuestión es 'Fare'\n",
    "Puedes user where, una consulta SQL o ambas\n",
    "\"\"\"\n",
    "\n",
    "\n",
    "\n"
   ]
  },
  {
   "cell_type": "markdown",
   "id": "03eb0708",
   "metadata": {
    "tags": []
   },
   "source": [
    "## Resumen estadístico del DataFrame"
   ]
  },
  {
   "cell_type": "code",
   "execution_count": 9,
   "id": "d1145bea",
   "metadata": {
    "scrolled": true
   },
   "outputs": [
    {
     "name": "stdout",
     "output_type": "stream",
     "text": [
      "+-------+------------------+------------------+-------------------+------------------+\n",
      "|summary|               Age|             SibSp|              Parch|            Pclass|\n",
      "+-------+------------------+------------------+-------------------+------------------+\n",
      "|  count|               714|               891|                891|               891|\n",
      "|   mean| 29.69911764704046|0.5230078563411896|0.38159371492704824| 2.308641975308642|\n",
      "| stddev|14.526497332370992|1.1027434322934315| 0.8060572211299488|0.8360712409770491|\n",
      "|    min|              0.42|               0.0|                0.0|                 1|\n",
      "|    25%|              20.0|               0.0|                0.0|               2.0|\n",
      "|    50%|              28.0|               0.0|                0.0|               3.0|\n",
      "|    75%|              38.0|               1.0|                0.0|               3.0|\n",
      "|    max|              80.0|               8.0|                6.0|                 3|\n",
      "+-------+------------------+------------------+-------------------+------------------+\n",
      "\n"
     ]
    }
   ],
   "source": [
    "df_titanic.select([\"Age\",\"SibSp\",\"Parch\",\"Pclass\"]).summary().show()"
   ]
  },
  {
   "cell_type": "code",
   "execution_count": 10,
   "id": "7abfdcf0-c5e0-48b2-afa3-6e51ba5e2f76",
   "metadata": {},
   "outputs": [
    {
     "name": "stdout",
     "output_type": "stream",
     "text": [
      "+-------+--------+------------------+------+\n",
      "|summary|Embarked|            Pclass|   Sex|\n",
      "+-------+--------+------------------+------+\n",
      "|  count|     889|               891|   891|\n",
      "|   mean|    null| 2.308641975308642|  null|\n",
      "| stddev|    null|0.8360712409770491|  null|\n",
      "|    min|       C|                 1|female|\n",
      "|    25%|    null|               2.0|  null|\n",
      "|    50%|    null|               3.0|  null|\n",
      "|    75%|    null|               3.0|  null|\n",
      "|    max|       S|                 3|  male|\n",
      "+-------+--------+------------------+------+\n",
      "\n",
      "root\n",
      " |-- Age: float (nullable = true)\n",
      " |-- SibSp: float (nullable = true)\n",
      " |-- Parch: float (nullable = true)\n",
      " |-- Fare: float (nullable = true)\n",
      " |-- Embarked: string (nullable = true)\n",
      " |-- Pclass: string (nullable = true)\n",
      " |-- Sex: string (nullable = true)\n",
      " |-- Survived: string (nullable = true)\n",
      "\n"
     ]
    }
   ],
   "source": [
    "\"\"\"\n",
    "Ejercicio\n",
    "Haz un resumen de todas las columnas no numéricas, ¿qué sucede?\n",
    "\"\"\"\n",
    "\n",
    "df_titanic.select([\"Embarked\",\"Pclass\",\"Sex\"]).summary().show()\n",
    "df_titanic.printSchema()"
   ]
  },
  {
   "cell_type": "markdown",
   "id": "07843724",
   "metadata": {
    "tags": []
   },
   "source": [
    "## Agrupando columnas"
   ]
  },
  {
   "cell_type": "code",
   "execution_count": 11,
   "id": "e83019d6",
   "metadata": {},
   "outputs": [
    {
     "name": "stdout",
     "output_type": "stream",
     "text": [
      "+------+--------------------+------------------+\n",
      "|Pclass|Number of ocurrences|       Average age|\n",
      "+------+--------------------+------------------+\n",
      "|     1|                 216| 38.23344086030478|\n",
      "|     2|                 184|29.877630057706998|\n",
      "|     3|                 491| 25.14061971827292|\n",
      "+------+--------------------+------------------+\n",
      "\n"
     ]
    }
   ],
   "source": [
    "import pyspark.sql.functions as F\n",
    "df_titanic_groupby_class = df_titanic.groupby(\"Pclass\").agg(F.count(\"Pclass\").alias(\"Number of ocurrences\"),F.mean(\"Age\").alias(\"Average age\")).orderBy(\"Pclass\",ascending=True)\n",
    "df_titanic_groupby_class.show()"
   ]
  },
  {
   "cell_type": "code",
   "execution_count": 12,
   "id": "0f0a47f3-2302-4ede-b8ac-e5709d8c9c63",
   "metadata": {},
   "outputs": [
    {
     "name": "stdout",
     "output_type": "stream",
     "text": [
      "+--------+--------------------+------------------+\n",
      "|Embarked|Number of ocurrences|       Average age|\n",
      "+--------+--------------------+------------------+\n",
      "|    null|                   0|              50.0|\n",
      "|       C|                 168| 30.81476923066836|\n",
      "|       Q|                  77|28.089285714285715|\n",
      "|       S|                 644| 29.44539711191336|\n",
      "+--------+--------------------+------------------+\n",
      "\n"
     ]
    }
   ],
   "source": [
    "\"\"\"\n",
    "Ejercicio\n",
    "Haz lo mismo que en el ejemplo anterior, pero agrupando por el puerto donde tomó el barco\n",
    "La columna que indica este dato es 'Embarked'\n",
    "\"\"\"\n",
    "\n",
    "df_titanic_groupby_embarked = df_titanic.groupby(\"Embarked\").agg(F.count(\"Embarked\").alias(\"Number of ocurrences\"),F.mean(\"Age\").alias(\"Average age\")).orderBy(\"Embarked\",ascending=True)\n",
    "df_titanic_groupby_embarked.show()\n",
    "\n"
   ]
  },
  {
   "cell_type": "markdown",
   "id": "560f31f9",
   "metadata": {
    "tags": []
   },
   "source": [
    "## Definiendo funciones UDF (User Defined Functions) y aplicándolas sobre una columna concreta"
   ]
  },
  {
   "cell_type": "code",
   "execution_count": 13,
   "id": "bdfab235",
   "metadata": {},
   "outputs": [
    {
     "name": "stdout",
     "output_type": "stream",
     "text": [
      "+----+-----+-----+-------+--------+------+------+--------+\n",
      "| Age|SibSp|Parch|   Fare|Embarked|Pclass|   Sex|Survived|\n",
      "+----+-----+-----+-------+--------+------+------+--------+\n",
      "|22.0|  1.0|  0.0|   7.25|       S|     2|  male|       0|\n",
      "|38.0|  1.0|  0.0|71.2833|       C|     0|female|       1|\n",
      "|26.0|  0.0|  0.0|  7.925|       S|     2|female|       1|\n",
      "|35.0|  1.0|  0.0|   53.1|       S|     0|female|       1|\n",
      "|35.0|  0.0|  0.0|   8.05|       S|     2|  male|       0|\n",
      "|null|  0.0|  0.0| 8.4583|       Q|     2|  male|       0|\n",
      "|54.0|  0.0|  0.0|51.8625|       S|     0|  male|       0|\n",
      "| 2.0|  3.0|  1.0| 21.075|       S|     2|  male|       0|\n",
      "|27.0|  0.0|  2.0|11.1333|       S|     2|female|       1|\n",
      "|14.0|  1.0|  0.0|30.0708|       C|     1|female|       1|\n",
      "+----+-----+-----+-------+--------+------+------+--------+\n",
      "only showing top 10 rows\n",
      "\n"
     ]
    }
   ],
   "source": [
    "@F.udf\n",
    "def substract_one(x):\n",
    "    return str(int(x)-1)\n",
    "\n",
    "df_titanic_substracted = df_titanic.withColumn(\"Pclass\",substract_one(col(\"Pclass\")))\n",
    "df_titanic_substracted.show(10)"
   ]
  },
  {
   "cell_type": "code",
   "execution_count": 14,
   "id": "e047ea4e-3394-4998-b282-82613c64e971",
   "metadata": {},
   "outputs": [
    {
     "data": {
      "text/plain": [
       "\"\\nEjercicio\\nDefine una función que pase mayúsculas a minúsculas y aplicala a la columna 'Embarked'\\nPista: Ten cuidado, puede haber valores nulos\\n\""
      ]
     },
     "execution_count": 14,
     "metadata": {},
     "output_type": "execute_result"
    }
   ],
   "source": [
    "\"\"\"\n",
    "Ejercicio\n",
    "Define una función que pase mayúsculas a minúsculas y aplicala a la columna 'Embarked'\n",
    "Pista: Ten cuidado, puede haber valores nulos\n",
    "\"\"\"\n",
    "\n",
    "\n",
    "\n"
   ]
  },
  {
   "cell_type": "markdown",
   "id": "cf7c8a41-ef67-4b5d-8e4b-cadbc2212173",
   "metadata": {},
   "source": [
    "## Ejercicio final"
   ]
  },
  {
   "cell_type": "code",
   "execution_count": 15,
   "id": "ae720be3-a06d-49b5-935b-e673f50207b1",
   "metadata": {},
   "outputs": [
    {
     "data": {
      "text/plain": [
       "\"\\nEjercicio\\nUsando el Dataframe df_titanic separa en dos tablas diferentes a los hombres y mujeres (columna 'Sex').\\nDespués obten en dos nuevas tablas el porcentaje de supervivientes por clase (columna 'Pclass') \\n\""
      ]
     },
     "execution_count": 15,
     "metadata": {},
     "output_type": "execute_result"
    }
   ],
   "source": [
    "\"\"\"\n",
    "Ejercicio\n",
    "Usando el Dataframe df_titanic separa en dos tablas diferentes a los hombres y mujeres (columna 'Sex').\n",
    "Después obten en dos nuevas tablas el porcentaje de supervivientes por clase (columna 'Pclass') \n",
    "\"\"\"\n"
   ]
  },
  {
   "cell_type": "markdown",
   "id": "6f55671f-6067-4886-b244-2502af916093",
   "metadata": {
    "tags": []
   },
   "source": [
    "# RDD (Resilient Distributed Datasets)"
   ]
  },
  {
   "cell_type": "code",
   "execution_count": 16,
   "id": "f9727d2b-3597-459d-bd39-0ac8c2d43967",
   "metadata": {},
   "outputs": [],
   "source": [
    "sc = spark.sparkContext"
   ]
  },
  {
   "cell_type": "code",
   "execution_count": 17,
   "id": "7fd5397c-2f5a-4076-a395-bf0fe6cda45c",
   "metadata": {},
   "outputs": [
    {
     "data": {
      "text/plain": [
       "PythonRDD[56] at RDD at PythonRDD.scala:53"
      ]
     },
     "execution_count": 17,
     "metadata": {},
     "output_type": "execute_result"
    }
   ],
   "source": [
    "rdd = sc.parallelize(range(1,101))\n",
    "rdd"
   ]
  },
  {
   "cell_type": "code",
   "execution_count": 18,
   "id": "66f98f86-7a5a-49ee-9a89-7d050b8d41b1",
   "metadata": {},
   "outputs": [
    {
     "data": {
      "text/plain": [
       "[1, 2, 3, 4, 5, 6, 7, 8, 9, 10, 11, 12, 13, 14, 15]"
      ]
     },
     "execution_count": 18,
     "metadata": {},
     "output_type": "execute_result"
    }
   ],
   "source": [
    "rdd.take(15)"
   ]
  },
  {
   "cell_type": "markdown",
   "id": "9a812213-46c8-4a23-a103-8c9880eb5b81",
   "metadata": {},
   "source": [
    "## Filtrando"
   ]
  },
  {
   "cell_type": "code",
   "execution_count": 19,
   "id": "471d27bb-2f76-4ab9-b39a-1058158a39bc",
   "metadata": {},
   "outputs": [
    {
     "data": {
      "text/plain": [
       "[51, 52, 53, 54, 55, 56, 57, 58, 59, 60]"
      ]
     },
     "execution_count": 19,
     "metadata": {},
     "output_type": "execute_result"
    }
   ],
   "source": [
    "rdd_filtered = rdd.filter(lambda x: x > 50)\n",
    "rdd_filtered.take(10)"
   ]
  },
  {
   "cell_type": "code",
   "execution_count": 20,
   "id": "b9197471-8945-49c1-8cb8-c913c223336b",
   "metadata": {},
   "outputs": [
    {
     "data": {
      "text/plain": [
       "'\\nEjercicio\\nFiltra el RDD original para solo quedarte con los números pares y muestra las 15 primeras ocurrencias\\n'"
      ]
     },
     "execution_count": 20,
     "metadata": {},
     "output_type": "execute_result"
    }
   ],
   "source": [
    "\"\"\"\n",
    "Ejercicio\n",
    "Filtra el RDD original para solo quedarte con los números pares y muestra las 15 primeras ocurrencias\n",
    "\"\"\"\n"
   ]
  },
  {
   "cell_type": "markdown",
   "id": "254b51d8-56a3-4d1d-b9aa-3c62ae0b91c4",
   "metadata": {},
   "source": [
    "## Aplicando funciones a todos los elementos"
   ]
  },
  {
   "cell_type": "code",
   "execution_count": 21,
   "id": "c53071d2-fe4f-4515-83d4-9e3b5be2b5ef",
   "metadata": {},
   "outputs": [
    {
     "data": {
      "text/plain": [
       "[100, 200, 300, 400, 500]"
      ]
     },
     "execution_count": 21,
     "metadata": {},
     "output_type": "execute_result"
    }
   ],
   "source": [
    "rdd_mapped = rdd.map(lambda x: x*100)\n",
    "rdd_mapped.take(5)"
   ]
  },
  {
   "cell_type": "code",
   "execution_count": 22,
   "id": "0115ac29-7910-4923-b432-980418ebf16b",
   "metadata": {},
   "outputs": [
    {
     "data": {
      "text/plain": [
       "'\\nEjercicio\\nCalcula los cuadrados de todos los números del RDD original y muestra las 8 primeras ocurrencias\\n'"
      ]
     },
     "execution_count": 22,
     "metadata": {},
     "output_type": "execute_result"
    }
   ],
   "source": [
    "\"\"\"\n",
    "Ejercicio\n",
    "Calcula los cuadrados de todos los números del RDD original y muestra las 8 primeras ocurrencias\n",
    "\"\"\"\n"
   ]
  },
  {
   "cell_type": "markdown",
   "id": "260713bd-6263-4ade-9740-cbce4d8ec6cc",
   "metadata": {},
   "source": [
    "## Obteniendo una parte aleatoria del RDD"
   ]
  },
  {
   "cell_type": "code",
   "execution_count": 23,
   "id": "7e675244-1a44-4ee1-b0df-ecca484183ef",
   "metadata": {},
   "outputs": [
    {
     "data": {
      "text/plain": [
       "[1, 5, 5, 11, 26, 31, 31, 37, 38]"
      ]
     },
     "execution_count": 23,
     "metadata": {},
     "output_type": "execute_result"
    }
   ],
   "source": [
    "rdd_fraction = rdd.sample(withReplacement=True,fraction=0.1)\n",
    "rdd_fraction.take(10)"
   ]
  },
  {
   "cell_type": "code",
   "execution_count": 24,
   "id": "e2ed1bc0-6de2-4760-82bc-ec7397711be8",
   "metadata": {},
   "outputs": [
    {
     "data": {
      "text/plain": [
       "'\\nEjercicio\\nObten aproximadamente el 5% de elementos del RDD sin que puedan repetirse aleatoriamente \\n'"
      ]
     },
     "execution_count": 24,
     "metadata": {},
     "output_type": "execute_result"
    }
   ],
   "source": [
    "\"\"\"\n",
    "Ejercicio\n",
    "Obten aproximadamente el 5% de elementos del RDD sin que puedan repetirse aleatoriamente \n",
    "\"\"\"\n",
    "\n",
    "\n"
   ]
  },
  {
   "cell_type": "markdown",
   "id": "4beb0849-d171-4802-a08f-90e2168ce71b",
   "metadata": {},
   "source": [
    "## Reduciendo por clave"
   ]
  },
  {
   "cell_type": "code",
   "execution_count": 25,
   "id": "286e905f-4893-492c-a332-f0b19a738956",
   "metadata": {},
   "outputs": [
    {
     "data": {
      "text/plain": [
       "[(1, 1), (2, 2), (3, 3), (4, 4), (5, 5), (6, 6), (0, 7)]"
      ]
     },
     "execution_count": 25,
     "metadata": {},
     "output_type": "execute_result"
    }
   ],
   "source": [
    "rdd_groupby_remainder_of_seven = [(x % 7, x) for x in range(1,101)]\n",
    "rdd_groupby_remainder_of_seven = sc.parallelize(\n",
    "    rdd_groupby_remainder_of_seven\n",
    ")\n",
    "rdd_groupby_remainder_of_seven.take(7)"
   ]
  },
  {
   "cell_type": "code",
   "execution_count": 26,
   "id": "8125e654-7c48-42ba-92ad-54516574306d",
   "metadata": {},
   "outputs": [
    {
     "data": {
      "text/plain": [
       "[(1, 750), (2, 765), (3, 679), (4, 693), (5, 707), (6, 721), (0, 735)]"
      ]
     },
     "execution_count": 26,
     "metadata": {},
     "output_type": "execute_result"
    }
   ],
   "source": [
    "rdd_groupby_sum = rdd_groupby_remainder_of_seven.reduceByKey(\n",
    "    lambda accu, value: accu+value\n",
    ")\n",
    "[element for element in rdd_groupby_sum.collect()]"
   ]
  },
  {
   "cell_type": "code",
   "execution_count": 27,
   "id": "f73d3258-9d93-41a9-8892-8208276fb7b4",
   "metadata": {},
   "outputs": [
    {
     "data": {
      "text/plain": [
       "'\\nEjercicio\\nHaz el mismo proceso anterior, \\npero ahora con los restos de 11 desde 100 hasta 200 \\ny usando la multiplicación en vez de la suma en la reducción por clave\\n'"
      ]
     },
     "execution_count": 27,
     "metadata": {},
     "output_type": "execute_result"
    }
   ],
   "source": [
    "\"\"\"\n",
    "Ejercicio\n",
    "Haz el mismo proceso anterior, \n",
    "pero ahora con los restos de 11 desde 100 hasta 200 \n",
    "y usando la multiplicación en vez de la suma en la reducción por clave\n",
    "\"\"\"\n",
    "\n"
   ]
  },
  {
   "cell_type": "markdown",
   "id": "a25f455d-eeb0-4ad3-881f-ebcf2bc97c84",
   "metadata": {},
   "source": [
    "## Reduciendo el RDD a un único valor"
   ]
  },
  {
   "cell_type": "code",
   "execution_count": 28,
   "id": "c4801706-485f-4204-b50f-64e64ce63043",
   "metadata": {},
   "outputs": [
    {
     "data": {
      "text/plain": [
       "93326215443944152681699238856266700490715968264381621468592963895217599993229915608941463976156518286253697920827223758251185210916864000000000000000000000000"
      ]
     },
     "execution_count": 28,
     "metadata": {},
     "output_type": "execute_result"
    }
   ],
   "source": [
    "mult_value = rdd.fold(1,\n",
    "    lambda accu, value: accu*value\n",
    ")\n",
    "mult_value"
   ]
  },
  {
   "cell_type": "code",
   "execution_count": 29,
   "id": "de28a62d-3d92-4a87-92a2-1cf7736a0796",
   "metadata": {},
   "outputs": [
    {
     "data": {
      "text/plain": [
       "'\\nEjercicio\\nObten la suma de todos los elementos del RDD\\nPista: El valor final debe ser 5050\\n'"
      ]
     },
     "execution_count": 29,
     "metadata": {},
     "output_type": "execute_result"
    }
   ],
   "source": [
    "\"\"\"\n",
    "Ejercicio\n",
    "Obten la suma de todos los elementos del RDD\n",
    "Pista: El valor final debe ser 5050\n",
    "\"\"\"\n",
    "\n",
    "\n",
    "\n"
   ]
  },
  {
   "cell_type": "markdown",
   "id": "7ab6195e-aa30-4ed0-97d6-ef236e3fec0f",
   "metadata": {},
   "source": [
    "## Ejercicio final"
   ]
  },
  {
   "cell_type": "code",
   "execution_count": 62,
   "id": "bd1e20fe-2621-49cf-bfae-dd03865e41ff",
   "metadata": {},
   "outputs": [
    {
     "data": {
      "text/plain": [
       "[('jt', 8),\n",
       " ('gf', 9),\n",
       " ('qb', 7),\n",
       " ('bo', 3),\n",
       " ('hj', 9),\n",
       " ('np', 7),\n",
       " ('so', 8),\n",
       " ('wn', 1),\n",
       " ('aj', 6),\n",
       " ('vw', 4)]"
      ]
     },
     "execution_count": 62,
     "metadata": {},
     "output_type": "execute_result"
    }
   ],
   "source": [
    "from random import choice, randint\n",
    "from string import ascii_lowercase as letters\n",
    "data = [\n",
    "    (f\"{choice(letters)}{choice(letters)}\", randint(1,10)) for _ in range(10000)\n",
    "]\n",
    "data[:10]"
   ]
  },
  {
   "cell_type": "code",
   "execution_count": 63,
   "id": "c9b3a3ec-a557-4b64-b959-955d3a775508",
   "metadata": {},
   "outputs": [
    {
     "data": {
      "text/plain": [
       "[('jt', 0.004597370878528841),\n",
       " ('bo', 0.003627612958839164),\n",
       " ('hj', 0.0018676819194023422),\n",
       " ('np', 0.003950865598735723),\n",
       " ('aj', 0.003412111198908124),\n",
       " ('vw', 0.002657855039149487),\n",
       " ('gh', 0.0030529415990230586),\n",
       " ('is', 0.0033761942389196175),\n",
       " ('er', 0.0029811076790460453),\n",
       " ('jm', 0.0011852596796207168)]"
      ]
     },
     "execution_count": 63,
     "metadata": {},
     "output_type": "execute_result"
    }
   ],
   "source": [
    "\"\"\"\n",
    "Ejercicio\n",
    "En los datos anteriores eliminar todas las claves \n",
    "cuya primera letra vaya después alfabéticamente que la segunda letra.\n",
    "Después dividir todos los valores entre la suma total de esos mismos valores.\n",
    "Finalmente, calcular la suma de los valores agrupando por la clave\n",
    "\"\"\"\n",
    "data = sc.parallelize(data)\n",
    "data = data.filter(lambda x: x[0][0] <= x[0][1])\n",
    "sum_data = data.map(lambda x: x[1]).fold(0,lambda accu, value: accu + value)\n",
    "data = data.map(lambda x: (x[0], x[1] / sum_data))\n",
    "data = data.reduceByKey(lambda accu, value: accu + value)\n",
    "data = data\n",
    "\n",
    "data.take(10)"
   ]
  },
  {
   "cell_type": "code",
   "execution_count": null,
   "id": "2c95ec0f-27f9-4fd5-b221-62f2d837c721",
   "metadata": {},
   "outputs": [],
   "source": []
  }
 ],
 "metadata": {
  "kernelspec": {
   "display_name": "Python 3 (ipykernel)",
   "language": "python",
   "name": "python3"
  },
  "language_info": {
   "codemirror_mode": {
    "name": "ipython",
    "version": 3
   },
   "file_extension": ".py",
   "mimetype": "text/x-python",
   "name": "python",
   "nbconvert_exporter": "python",
   "pygments_lexer": "ipython3",
   "version": "3.10.8"
  },
  "toc-autonumbering": true,
  "toc-showcode": false,
  "toc-showmarkdowntxt": false
 },
 "nbformat": 4,
 "nbformat_minor": 5
}
