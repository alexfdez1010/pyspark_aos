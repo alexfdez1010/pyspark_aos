{
 "cells": [
  {
   "cell_type": "markdown",
   "id": "224b0360",
   "metadata": {},
   "source": [
    "# PySpark"
   ]
  },
  {
   "cell_type": "markdown",
   "id": "de8c6d16",
   "metadata": {},
   "source": [
    "## Cómo crear una sesión en Spark"
   ]
  },
  {
   "cell_type": "code",
   "execution_count": null,
   "id": "4df459c1",
   "metadata": {},
   "outputs": [],
   "source": [
    "from pyspark.sql import SparkSession\n",
    "import numpy as np\n",
    "import pandas as pd\n",
    "\n",
    "spark = SparkSession.builder.master(\"local\").appName(\"PySpark\").config('spark.ui.port', '4050').getOrCreate()\n",
    "spark"
   ]
  },
  {
   "cell_type": "markdown",
   "id": "e333f902",
   "metadata": {},
   "source": [
    "## Leer un csv "
   ]
  },
  {
   "cell_type": "code",
   "execution_count": null,
   "id": "ee309433",
   "metadata": {},
   "outputs": [],
   "source": [
    "df_titanic = spark.read.csv('titanic.csv',header=True)\n",
    "\n",
    "df_titanic.printSchema()"
   ]
  },
  {
   "cell_type": "markdown",
   "id": "701dc3e1",
   "metadata": {},
   "source": [
    "## Eliminando las columnas no necesarias"
   ]
  },
  {
   "cell_type": "code",
   "execution_count": null,
   "id": "2d1784f9",
   "metadata": {},
   "outputs": [],
   "source": [
    "NUMERIC_COLUMNS = [\"Age\",\"SibSp\",\"Parch\",\"Fare\"]\n",
    "ENUM_COLUMNS = [\"Embarked\",\"Pclass\"]\n",
    "LABEL_COLUMN = [\"Survived\"]\n",
    "\n",
    "df_titanic = df_titanic.select(NUMERIC_COLUMNS + ENUM_COLUMNS + LABEL_COLUMN)\n",
    "df_titanic.printSchema()"
   ]
  },
  {
   "cell_type": "markdown",
   "id": "9595894f",
   "metadata": {},
   "source": [
    "## Convirtiendo las columnas numéricas a flotante"
   ]
  },
  {
   "cell_type": "code",
   "execution_count": null,
   "id": "25f51ce2",
   "metadata": {},
   "outputs": [],
   "source": [
    "from pyspark.sql.functions import col\n",
    "def cast_to_float(input_df):\n",
    "    return input_df.select([col(col_name).cast(\"float\") if col_name in NUMERIC_COLUMNS \n",
    "                            else col(col_name)\n",
    "                            for col_name in input_df.columns])\n",
    "\n",
    "df_titanic = df_titanic.transform(cast_to_float)\n",
    "df_titanic.printSchema()"
   ]
  },
  {
   "cell_type": "code",
   "execution_count": null,
   "id": "73bc2366",
   "metadata": {},
   "outputs": [],
   "source": [
    "df_titanic.show()   "
   ]
  },
  {
   "cell_type": "code",
   "execution_count": null,
   "outputs": [],
   "source": [
    "df_titanic.select([\"Age\",\"SibSp\",\"Parch\",\"Pclass\"]).summary().show()"
   ],
   "metadata": {
    "collapsed": false
   }
  }
 ],
 "metadata": {
  "kernelspec": {
   "display_name": "Python 3 (ipykernel)",
   "language": "python",
   "name": "python3"
  },
  "language_info": {
   "codemirror_mode": {
    "name": "ipython",
    "version": 3
   },
   "file_extension": ".py",
   "mimetype": "text/x-python",
   "name": "python",
   "nbconvert_exporter": "python",
   "pygments_lexer": "ipython3",
   "version": "3.8.2"
  }
 },
 "nbformat": 4,
 "nbformat_minor": 5
}
