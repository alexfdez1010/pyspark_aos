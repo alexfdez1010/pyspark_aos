{
 "cells": [
  {
   "cell_type": "markdown",
   "id": "224b0360",
   "metadata": {},
   "source": [
    "# PySpark"
   ]
  },
  {
   "cell_type": "markdown",
   "id": "de8c6d16",
   "metadata": {},
   "source": [
    "## Cómo crear una sesión en Spark"
   ]
  },
  {
   "cell_type": "code",
   "execution_count": 1,
   "id": "4df459c1",
   "metadata": {},
   "outputs": [
    {
     "name": "stderr",
     "output_type": "stream",
     "text": [
      "Setting default log level to \"WARN\".\n",
      "To adjust logging level use sc.setLogLevel(newLevel). For SparkR, use setLogLevel(newLevel).\n"
     ]
    },
    {
     "name": "stdout",
     "output_type": "stream",
     "text": [
      "22/11/27 20:24:44 WARN NativeCodeLoader: Unable to load native-hadoop library for your platform... using builtin-java classes where applicable\n"
     ]
    },
    {
     "data": {
      "text/html": [
       "\n",
       "            <div>\n",
       "                <p><b>SparkSession - in-memory</b></p>\n",
       "                \n",
       "        <div>\n",
       "            <p><b>SparkContext</b></p>\n",
       "\n",
       "            <p><a href=\"http://mbpdealejandro.home:4050\">Spark UI</a></p>\n",
       "\n",
       "            <dl>\n",
       "              <dt>Version</dt>\n",
       "                <dd><code>v3.3.1</code></dd>\n",
       "              <dt>Master</dt>\n",
       "                <dd><code>local</code></dd>\n",
       "              <dt>AppName</dt>\n",
       "                <dd><code>PySpark</code></dd>\n",
       "            </dl>\n",
       "        </div>\n",
       "        \n",
       "            </div>\n",
       "        "
      ],
      "text/plain": [
       "<pyspark.sql.session.SparkSession at 0x117692190>"
      ]
     },
     "execution_count": 1,
     "metadata": {},
     "output_type": "execute_result"
    }
   ],
   "source": [
    "from pyspark.sql import SparkSession\n",
    "import numpy as np\n",
    "import pandas as pd\n",
    "\n",
    "spark = SparkSession.builder.master(\"local\").appName(\"PySpark\").config('spark.ui.port', '4050').getOrCreate()\n",
    "spark"
   ]
  },
  {
   "cell_type": "markdown",
   "id": "e333f902",
   "metadata": {},
   "source": [
    "## Leer un csv "
   ]
  },
  {
   "cell_type": "code",
   "execution_count": 2,
   "id": "ee309433",
   "metadata": {},
   "outputs": [
    {
     "name": "stdout",
     "output_type": "stream",
     "text": [
      "root\n",
      " |-- PassengerId: string (nullable = true)\n",
      " |-- Survived: string (nullable = true)\n",
      " |-- Pclass: string (nullable = true)\n",
      " |-- Name: string (nullable = true)\n",
      " |-- Sex: string (nullable = true)\n",
      " |-- Age: string (nullable = true)\n",
      " |-- SibSp: string (nullable = true)\n",
      " |-- Parch: string (nullable = true)\n",
      " |-- Ticket: string (nullable = true)\n",
      " |-- Fare: string (nullable = true)\n",
      " |-- Cabin: string (nullable = true)\n",
      " |-- Embarked: string (nullable = true)\n",
      "\n"
     ]
    }
   ],
   "source": [
    "df_titanic = spark.read.csv('titanic.csv',header=True)\n",
    "\n",
    "df_titanic.printSchema()"
   ]
  },
  {
   "cell_type": "markdown",
   "id": "701dc3e1",
   "metadata": {},
   "source": [
    "## Eliminando las columnas no necesarias"
   ]
  },
  {
   "cell_type": "code",
   "execution_count": 4,
   "id": "2d1784f9",
   "metadata": {},
   "outputs": [
    {
     "name": "stdout",
     "output_type": "stream",
     "text": [
      "root\n",
      " |-- Age: string (nullable = true)\n",
      " |-- SibSp: string (nullable = true)\n",
      " |-- Parch: string (nullable = true)\n",
      " |-- Fare: string (nullable = true)\n",
      " |-- Embarked: string (nullable = true)\n",
      " |-- Pclass: string (nullable = true)\n",
      " |-- Survived: string (nullable = true)\n",
      "\n"
     ]
    }
   ],
   "source": [
    "NUMERIC_COLUMNS = [\"Age\",\"SibSp\",\"Parch\",\"Fare\"]\n",
    "ENUM_COLUMNS = [\"Embarked\",\"Pclass\"]\n",
    "LABEL_COLUMN = [\"Survived\"]\n",
    "\n",
    "df_titanic = df_titanic.select(NUMERIC_COLUMNS + ENUM_COLUMNS + LABEL_COLUMN)\n",
    "df_titanic.printSchema()"
   ]
  },
  {
   "cell_type": "markdown",
   "id": "9595894f",
   "metadata": {},
   "source": [
    "## Convirtiendo las columnas numéricas a flotante"
   ]
  },
  {
   "cell_type": "code",
   "execution_count": 7,
   "id": "25f51ce2",
   "metadata": {},
   "outputs": [
    {
     "name": "stdout",
     "output_type": "stream",
     "text": [
      "root\n",
      " |-- Age: float (nullable = true)\n",
      " |-- SibSp: float (nullable = true)\n",
      " |-- Parch: float (nullable = true)\n",
      " |-- Fare: float (nullable = true)\n",
      " |-- Embarked: string (nullable = true)\n",
      " |-- Pclass: string (nullable = true)\n",
      " |-- Survived: string (nullable = true)\n",
      "\n"
     ]
    }
   ],
   "source": [
    "from pyspark.sql.functions import col\n",
    "def cast_to_float(input_df):\n",
    "    return input_df.select([col(col_name).cast(\"float\") if col_name in NUMERIC_COLUMNS \n",
    "                            else col(col_name)\n",
    "                            for col_name in input_df.columns])\n",
    "\n",
    "df_titanic = df_titanic.transform(cast_to_float)\n",
    "df_titanic.printSchema()"
   ]
  },
  {
   "cell_type": "code",
   "execution_count": 8,
   "id": "73bc2366",
   "metadata": {},
   "outputs": [
    {
     "name": "stdout",
     "output_type": "stream",
     "text": [
      "+----+-----+-----+-------+--------+------+--------+\n",
      "| Age|SibSp|Parch|   Fare|Embarked|Pclass|Survived|\n",
      "+----+-----+-----+-------+--------+------+--------+\n",
      "|22.0|  1.0|  0.0|   7.25|       S|     3|       0|\n",
      "|38.0|  1.0|  0.0|71.2833|       C|     1|       1|\n",
      "|26.0|  0.0|  0.0|  7.925|       S|     3|       1|\n",
      "|35.0|  1.0|  0.0|   53.1|       S|     1|       1|\n",
      "|35.0|  0.0|  0.0|   8.05|       S|     3|       0|\n",
      "|null|  0.0|  0.0| 8.4583|       Q|     3|       0|\n",
      "|54.0|  0.0|  0.0|51.8625|       S|     1|       0|\n",
      "| 2.0|  3.0|  1.0| 21.075|       S|     3|       0|\n",
      "|27.0|  0.0|  2.0|11.1333|       S|     3|       1|\n",
      "|14.0|  1.0|  0.0|30.0708|       C|     2|       1|\n",
      "| 4.0|  1.0|  1.0|   16.7|       S|     3|       1|\n",
      "|58.0|  0.0|  0.0|  26.55|       S|     1|       1|\n",
      "|20.0|  0.0|  0.0|   8.05|       S|     3|       0|\n",
      "|39.0|  1.0|  5.0| 31.275|       S|     3|       0|\n",
      "|14.0|  0.0|  0.0| 7.8542|       S|     3|       0|\n",
      "|55.0|  0.0|  0.0|   16.0|       S|     2|       1|\n",
      "| 2.0|  4.0|  1.0| 29.125|       Q|     3|       0|\n",
      "|null|  0.0|  0.0|   13.0|       S|     2|       1|\n",
      "|31.0|  1.0|  0.0|   18.0|       S|     3|       0|\n",
      "|null|  0.0|  0.0|  7.225|       C|     3|       1|\n",
      "+----+-----+-----+-------+--------+------+--------+\n",
      "only showing top 20 rows\n",
      "\n"
     ]
    }
   ],
   "source": [
    "df_titanic.show()   "
   ]
  },
  {
   "cell_type": "code",
   "execution_count": 15,
   "id": "1fd82aa9",
   "metadata": {},
   "outputs": [
    {
     "name": "stdout",
     "output_type": "stream",
     "text": [
      "+-------+------------------+------------------+-------------------+------------------+\n",
      "|summary|               Age|             SibSp|              Parch|            Pclass|\n",
      "+-------+------------------+------------------+-------------------+------------------+\n",
      "|  count|               714|               891|                891|               891|\n",
      "|   mean| 29.69911764704046|0.5230078563411896|0.38159371492704824| 2.308641975308642|\n",
      "| stddev|14.526497332370992|1.1027434322934315| 0.8060572211299488|0.8360712409770491|\n",
      "|    min|              0.42|               0.0|                0.0|                 1|\n",
      "|    25%|              20.0|               0.0|                0.0|               2.0|\n",
      "|    50%|              28.0|               0.0|                0.0|               3.0|\n",
      "|    75%|              38.0|               1.0|                0.0|               3.0|\n",
      "|    max|              80.0|               8.0|                6.0|                 3|\n",
      "+-------+------------------+------------------+-------------------+------------------+\n",
      "\n"
     ]
    }
   ],
   "source": [
    "df_titanic.select([\"Age\",\"SibSp\",\"Parch\",\"Pclass\"]).summary().show()"
   ]
  },
  {
   "cell_type": "code",
   "execution_count": null,
   "id": "2c6b676c",
   "metadata": {},
   "outputs": [],
   "source": []
  }
 ],
 "metadata": {
  "kernelspec": {
   "display_name": "Python 3 (ipykernel)",
   "language": "python",
   "name": "python3"
  },
  "language_info": {
   "codemirror_mode": {
    "name": "ipython",
    "version": 3
   },
   "file_extension": ".py",
   "mimetype": "text/x-python",
   "name": "python",
   "nbconvert_exporter": "python",
   "pygments_lexer": "ipython3",
   "version": "3.8.2"
  }
 },
 "nbformat": 4,
 "nbformat_minor": 5
}
